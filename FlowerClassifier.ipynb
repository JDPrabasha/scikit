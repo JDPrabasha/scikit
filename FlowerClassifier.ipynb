{
  "nbformat": 4,
  "nbformat_minor": 0,
  "metadata": {
    "colab": {
      "name": "FlowerClassifier.ipynb",
      "provenance": [],
      "authorship_tag": "ABX9TyOf7vNYcoPdGcU/xk8rePch",
      "include_colab_link": true
    },
    "kernelspec": {
      "name": "python3",
      "display_name": "Python 3"
    }
  },
  "cells": [
    {
      "cell_type": "markdown",
      "metadata": {
        "id": "view-in-github",
        "colab_type": "text"
      },
      "source": [
        "<a href=\"https://colab.research.google.com/github/JDPrabasha/scikit/blob/main/FlowerClassifier.ipynb\" target=\"_parent\"><img src=\"https://colab.research.google.com/assets/colab-badge.svg\" alt=\"Open In Colab\"/></a>"
      ]
    },
    {
      "cell_type": "code",
      "metadata": {
        "colab": {
          "base_uri": "https://localhost:8080/"
        },
        "id": "pI20DnbeuFse",
        "outputId": "419ab805-8b0b-4778-e8d8-24f0952f375a"
      },
      "source": [
        "from  sklearn import  datasets\n",
        "iris=datasets.load_iris()\n",
        "X=iris.data ##contains features\n",
        "y=iris.target ##contains data labelled as 1,0 or 2\n",
        "from sklearn.model_selection import train_test_split\n",
        "X_train,X_test,y_train,y_test=train_test_split(X,y,test_size=.5)\n",
        "from sklearn import tree\n",
        "classifier=tree.DecisionTreeClassifier()\n",
        "classifier.fit(X_train,y_train)\n",
        "predictions=classifier.predict(X_test)\n",
        "from sklearn.metrics import accuracy_score\n",
        "print(round(accuracy_score(y_test,predictions),2))"
      ],
      "execution_count": 15,
      "outputs": [
        {
          "output_type": "stream",
          "text": [
            "0.96\n"
          ],
          "name": "stdout"
        }
      ]
    }
  ]
}