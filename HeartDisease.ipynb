{
  "nbformat": 4,
  "nbformat_minor": 0,
  "metadata": {
    "colab": {
      "name": "HeartDisease.ipynb",
      "provenance": [],
      "authorship_tag": "ABX9TyMAKQUsfPFWv+3SORpqYyUm",
      "include_colab_link": true
    },
    "kernelspec": {
      "name": "python3",
      "display_name": "Python 3"
    }
  },
  "cells": [
    {
      "cell_type": "markdown",
      "metadata": {
        "id": "view-in-github",
        "colab_type": "text"
      },
      "source": [
        "<a href=\"https://colab.research.google.com/github/JDPrabasha/scikit/blob/main/HeartDisease.ipynb\" target=\"_parent\"><img src=\"https://colab.research.google.com/assets/colab-badge.svg\" alt=\"Open In Colab\"/></a>"
      ]
    },
    {
      "cell_type": "code",
      "metadata": {
        "id": "ZEx8tF9Eqjhb"
      },
      "source": [
        "import pandas as pd\n",
        "import numpy as np"
      ],
      "execution_count": 1,
      "outputs": []
    },
    {
      "cell_type": "markdown",
      "metadata": {
        "id": "HDzrEj-CqsP4"
      },
      "source": [
        "## Step 1: Load data from txt"
      ]
    },
    {
      "cell_type": "code",
      "metadata": {
        "colab": {
          "base_uri": "https://localhost:8080/",
          "height": 297
        },
        "id": "nFTrB_KwqwPt",
        "outputId": "30b9dd94-7981-4686-b702-0c74c5e3bdaa"
      },
      "source": [
        "url=\"https://raw.githubusercontent.com/JDPrabasha/scikit/main/SAheart.data.txt\"\n",
        "chd_data=pd.read_csv(url,delimiter=\",\",header=0)\n",
        "chd_data.head(8)"
      ],
      "execution_count": 29,
      "outputs": [
        {
          "output_type": "execute_result",
          "data": {
            "text/html": [
              "<div>\n",
              "<style scoped>\n",
              "    .dataframe tbody tr th:only-of-type {\n",
              "        vertical-align: middle;\n",
              "    }\n",
              "\n",
              "    .dataframe tbody tr th {\n",
              "        vertical-align: top;\n",
              "    }\n",
              "\n",
              "    .dataframe thead th {\n",
              "        text-align: right;\n",
              "    }\n",
              "</style>\n",
              "<table border=\"1\" class=\"dataframe\">\n",
              "  <thead>\n",
              "    <tr style=\"text-align: right;\">\n",
              "      <th></th>\n",
              "      <th>row.names</th>\n",
              "      <th>sbp</th>\n",
              "      <th>tobacco</th>\n",
              "      <th>ldl</th>\n",
              "      <th>adiposity</th>\n",
              "      <th>famhist</th>\n",
              "      <th>typea</th>\n",
              "      <th>obesity</th>\n",
              "      <th>alcohol</th>\n",
              "      <th>age</th>\n",
              "      <th>chd</th>\n",
              "    </tr>\n",
              "  </thead>\n",
              "  <tbody>\n",
              "    <tr>\n",
              "      <th>0</th>\n",
              "      <td>1</td>\n",
              "      <td>160</td>\n",
              "      <td>12.00</td>\n",
              "      <td>5.73</td>\n",
              "      <td>23.11</td>\n",
              "      <td>Present</td>\n",
              "      <td>49</td>\n",
              "      <td>25.30</td>\n",
              "      <td>97.20</td>\n",
              "      <td>52</td>\n",
              "      <td>1</td>\n",
              "    </tr>\n",
              "    <tr>\n",
              "      <th>1</th>\n",
              "      <td>2</td>\n",
              "      <td>144</td>\n",
              "      <td>0.01</td>\n",
              "      <td>4.41</td>\n",
              "      <td>28.61</td>\n",
              "      <td>Absent</td>\n",
              "      <td>55</td>\n",
              "      <td>28.87</td>\n",
              "      <td>2.06</td>\n",
              "      <td>63</td>\n",
              "      <td>1</td>\n",
              "    </tr>\n",
              "    <tr>\n",
              "      <th>2</th>\n",
              "      <td>3</td>\n",
              "      <td>118</td>\n",
              "      <td>0.08</td>\n",
              "      <td>3.48</td>\n",
              "      <td>32.28</td>\n",
              "      <td>Present</td>\n",
              "      <td>52</td>\n",
              "      <td>29.14</td>\n",
              "      <td>3.81</td>\n",
              "      <td>46</td>\n",
              "      <td>0</td>\n",
              "    </tr>\n",
              "    <tr>\n",
              "      <th>3</th>\n",
              "      <td>4</td>\n",
              "      <td>170</td>\n",
              "      <td>7.50</td>\n",
              "      <td>6.41</td>\n",
              "      <td>38.03</td>\n",
              "      <td>Present</td>\n",
              "      <td>51</td>\n",
              "      <td>31.99</td>\n",
              "      <td>24.26</td>\n",
              "      <td>58</td>\n",
              "      <td>1</td>\n",
              "    </tr>\n",
              "    <tr>\n",
              "      <th>4</th>\n",
              "      <td>5</td>\n",
              "      <td>134</td>\n",
              "      <td>13.60</td>\n",
              "      <td>3.50</td>\n",
              "      <td>27.78</td>\n",
              "      <td>Present</td>\n",
              "      <td>60</td>\n",
              "      <td>25.99</td>\n",
              "      <td>57.34</td>\n",
              "      <td>49</td>\n",
              "      <td>1</td>\n",
              "    </tr>\n",
              "    <tr>\n",
              "      <th>5</th>\n",
              "      <td>6</td>\n",
              "      <td>132</td>\n",
              "      <td>6.20</td>\n",
              "      <td>6.47</td>\n",
              "      <td>36.21</td>\n",
              "      <td>Present</td>\n",
              "      <td>62</td>\n",
              "      <td>30.77</td>\n",
              "      <td>14.14</td>\n",
              "      <td>45</td>\n",
              "      <td>0</td>\n",
              "    </tr>\n",
              "    <tr>\n",
              "      <th>6</th>\n",
              "      <td>7</td>\n",
              "      <td>142</td>\n",
              "      <td>4.05</td>\n",
              "      <td>3.38</td>\n",
              "      <td>16.20</td>\n",
              "      <td>Absent</td>\n",
              "      <td>59</td>\n",
              "      <td>20.81</td>\n",
              "      <td>2.62</td>\n",
              "      <td>38</td>\n",
              "      <td>0</td>\n",
              "    </tr>\n",
              "    <tr>\n",
              "      <th>7</th>\n",
              "      <td>8</td>\n",
              "      <td>114</td>\n",
              "      <td>4.08</td>\n",
              "      <td>4.59</td>\n",
              "      <td>14.60</td>\n",
              "      <td>Present</td>\n",
              "      <td>62</td>\n",
              "      <td>23.11</td>\n",
              "      <td>6.72</td>\n",
              "      <td>58</td>\n",
              "      <td>1</td>\n",
              "    </tr>\n",
              "  </tbody>\n",
              "</table>\n",
              "</div>"
            ],
            "text/plain": [
              "   row.names  sbp  tobacco   ldl  adiposity  ... typea  obesity  alcohol  age  chd\n",
              "0          1  160    12.00  5.73      23.11  ...    49    25.30    97.20   52    1\n",
              "1          2  144     0.01  4.41      28.61  ...    55    28.87     2.06   63    1\n",
              "2          3  118     0.08  3.48      32.28  ...    52    29.14     3.81   46    0\n",
              "3          4  170     7.50  6.41      38.03  ...    51    31.99    24.26   58    1\n",
              "4          5  134    13.60  3.50      27.78  ...    60    25.99    57.34   49    1\n",
              "5          6  132     6.20  6.47      36.21  ...    62    30.77    14.14   45    0\n",
              "6          7  142     4.05  3.38      16.20  ...    59    20.81     2.62   38    0\n",
              "7          8  114     4.08  4.59      14.60  ...    62    23.11     6.72   58    1\n",
              "\n",
              "[8 rows x 11 columns]"
            ]
          },
          "metadata": {
            "tags": []
          },
          "execution_count": 29
        }
      ]
    },
    {
      "cell_type": "markdown",
      "metadata": {
        "id": "Qc8CCBtryFbB"
      },
      "source": [
        "## Step 2: Preprocess Data"
      ]
    },
    {
      "cell_type": "code",
      "metadata": {
        "id": "0BecZUCusbf0"
      },
      "source": [
        "chd_data=chd_data.set_index(\"row.names\")"
      ],
      "execution_count": 30,
      "outputs": []
    },
    {
      "cell_type": "code",
      "metadata": {
        "colab": {
          "base_uri": "https://localhost:8080/",
          "height": 235
        },
        "id": "nxBACabBve8f",
        "outputId": "9d468b7b-94cb-4f13-b8e5-8dde9004d538"
      },
      "source": [
        "chd_data['famhist'] = chd_data['famhist'].eq('Present').astype(int)\n",
        "chd_data.head()"
      ],
      "execution_count": 31,
      "outputs": [
        {
          "output_type": "execute_result",
          "data": {
            "text/html": [
              "<div>\n",
              "<style scoped>\n",
              "    .dataframe tbody tr th:only-of-type {\n",
              "        vertical-align: middle;\n",
              "    }\n",
              "\n",
              "    .dataframe tbody tr th {\n",
              "        vertical-align: top;\n",
              "    }\n",
              "\n",
              "    .dataframe thead th {\n",
              "        text-align: right;\n",
              "    }\n",
              "</style>\n",
              "<table border=\"1\" class=\"dataframe\">\n",
              "  <thead>\n",
              "    <tr style=\"text-align: right;\">\n",
              "      <th></th>\n",
              "      <th>sbp</th>\n",
              "      <th>tobacco</th>\n",
              "      <th>ldl</th>\n",
              "      <th>adiposity</th>\n",
              "      <th>famhist</th>\n",
              "      <th>typea</th>\n",
              "      <th>obesity</th>\n",
              "      <th>alcohol</th>\n",
              "      <th>age</th>\n",
              "      <th>chd</th>\n",
              "    </tr>\n",
              "    <tr>\n",
              "      <th>row.names</th>\n",
              "      <th></th>\n",
              "      <th></th>\n",
              "      <th></th>\n",
              "      <th></th>\n",
              "      <th></th>\n",
              "      <th></th>\n",
              "      <th></th>\n",
              "      <th></th>\n",
              "      <th></th>\n",
              "      <th></th>\n",
              "    </tr>\n",
              "  </thead>\n",
              "  <tbody>\n",
              "    <tr>\n",
              "      <th>1</th>\n",
              "      <td>160</td>\n",
              "      <td>12.00</td>\n",
              "      <td>5.73</td>\n",
              "      <td>23.11</td>\n",
              "      <td>1</td>\n",
              "      <td>49</td>\n",
              "      <td>25.30</td>\n",
              "      <td>97.20</td>\n",
              "      <td>52</td>\n",
              "      <td>1</td>\n",
              "    </tr>\n",
              "    <tr>\n",
              "      <th>2</th>\n",
              "      <td>144</td>\n",
              "      <td>0.01</td>\n",
              "      <td>4.41</td>\n",
              "      <td>28.61</td>\n",
              "      <td>0</td>\n",
              "      <td>55</td>\n",
              "      <td>28.87</td>\n",
              "      <td>2.06</td>\n",
              "      <td>63</td>\n",
              "      <td>1</td>\n",
              "    </tr>\n",
              "    <tr>\n",
              "      <th>3</th>\n",
              "      <td>118</td>\n",
              "      <td>0.08</td>\n",
              "      <td>3.48</td>\n",
              "      <td>32.28</td>\n",
              "      <td>1</td>\n",
              "      <td>52</td>\n",
              "      <td>29.14</td>\n",
              "      <td>3.81</td>\n",
              "      <td>46</td>\n",
              "      <td>0</td>\n",
              "    </tr>\n",
              "    <tr>\n",
              "      <th>4</th>\n",
              "      <td>170</td>\n",
              "      <td>7.50</td>\n",
              "      <td>6.41</td>\n",
              "      <td>38.03</td>\n",
              "      <td>1</td>\n",
              "      <td>51</td>\n",
              "      <td>31.99</td>\n",
              "      <td>24.26</td>\n",
              "      <td>58</td>\n",
              "      <td>1</td>\n",
              "    </tr>\n",
              "    <tr>\n",
              "      <th>5</th>\n",
              "      <td>134</td>\n",
              "      <td>13.60</td>\n",
              "      <td>3.50</td>\n",
              "      <td>27.78</td>\n",
              "      <td>1</td>\n",
              "      <td>60</td>\n",
              "      <td>25.99</td>\n",
              "      <td>57.34</td>\n",
              "      <td>49</td>\n",
              "      <td>1</td>\n",
              "    </tr>\n",
              "  </tbody>\n",
              "</table>\n",
              "</div>"
            ],
            "text/plain": [
              "           sbp  tobacco   ldl  adiposity  ...  obesity  alcohol  age  chd\n",
              "row.names                                 ...                            \n",
              "1          160    12.00  5.73      23.11  ...    25.30    97.20   52    1\n",
              "2          144     0.01  4.41      28.61  ...    28.87     2.06   63    1\n",
              "3          118     0.08  3.48      32.28  ...    29.14     3.81   46    0\n",
              "4          170     7.50  6.41      38.03  ...    31.99    24.26   58    1\n",
              "5          134    13.60  3.50      27.78  ...    25.99    57.34   49    1\n",
              "\n",
              "[5 rows x 10 columns]"
            ]
          },
          "metadata": {
            "tags": []
          },
          "execution_count": 31
        }
      ]
    },
    {
      "cell_type": "markdown",
      "metadata": {
        "id": "SyF1jaQmyRJP"
      },
      "source": [
        "## Step 3: Choose features and set y"
      ]
    },
    {
      "cell_type": "code",
      "metadata": {
        "id": "0MV50kH4s0_R"
      },
      "source": [
        "X=chd_data.iloc[:,:9]\n",
        "y=chd_data.iloc[:,9]"
      ],
      "execution_count": 38,
      "outputs": []
    },
    {
      "cell_type": "code",
      "metadata": {
        "id": "uR0PDs3ftcdH"
      },
      "source": [
        "from sklearn.model_selection import train_test_split\n",
        "X_train, X_test, y_train, y_test = train_test_split(X, y)"
      ],
      "execution_count": 39,
      "outputs": []
    },
    {
      "cell_type": "markdown",
      "metadata": {
        "id": "sJdNzT7vyYh7"
      },
      "source": [
        "##Step 4: Make model with scaled features using pipeline"
      ]
    },
    {
      "cell_type": "code",
      "metadata": {
        "id": "04AlhZ7JwrEv"
      },
      "source": [
        "from sklearn.linear_model import LogisticRegression\n",
        "from sklearn.model_selection import train_test_split\n",
        "from sklearn.pipeline import make_pipeline\n",
        "from sklearn.preprocessing import StandardScaler"
      ],
      "execution_count": 40,
      "outputs": []
    },
    {
      "cell_type": "code",
      "metadata": {
        "colab": {
          "base_uri": "https://localhost:8080/"
        },
        "id": "OVfIuUeiwwM-",
        "outputId": "a2fdc4db-366b-4de9-dad5-f05c7f04ab69"
      },
      "source": [
        "chd_model = make_pipeline(StandardScaler(), LogisticRegression())\n",
        "chd_model.fit(X_train, y_train)"
      ],
      "execution_count": 43,
      "outputs": [
        {
          "output_type": "execute_result",
          "data": {
            "text/plain": [
              "Pipeline(memory=None,\n",
              "         steps=[('standardscaler',\n",
              "                 StandardScaler(copy=True, with_mean=True, with_std=True)),\n",
              "                ('logisticregression',\n",
              "                 LogisticRegression(C=1.0, class_weight=None, dual=False,\n",
              "                                    fit_intercept=True, intercept_scaling=1,\n",
              "                                    l1_ratio=None, max_iter=100,\n",
              "                                    multi_class='auto', n_jobs=None,\n",
              "                                    penalty='l2', random_state=None,\n",
              "                                    solver='lbfgs', tol=0.0001, verbose=0,\n",
              "                                    warm_start=False))],\n",
              "         verbose=False)"
            ]
          },
          "metadata": {
            "tags": []
          },
          "execution_count": 43
        }
      ]
    },
    {
      "cell_type": "markdown",
      "metadata": {
        "id": "w1LwJ6sLynh2"
      },
      "source": [
        "## Step 5: Test model"
      ]
    },
    {
      "cell_type": "code",
      "metadata": {
        "colab": {
          "base_uri": "https://localhost:8080/"
        },
        "id": "DNBgtE4suKAl",
        "outputId": "e16fa5c3-33a9-4d2a-acc2-7e274f52dd7a"
      },
      "source": [
        "chd_model.score(X_test, y_test)"
      ],
      "execution_count": 44,
      "outputs": [
        {
          "output_type": "execute_result",
          "data": {
            "text/plain": [
              "0.6982758620689655"
            ]
          },
          "metadata": {
            "tags": []
          },
          "execution_count": 44
        }
      ]
    }
  ]
}